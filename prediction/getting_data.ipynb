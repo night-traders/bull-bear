{
 "cells": [
  {
   "cell_type": "code",
   "execution_count": 3,
   "metadata": {},
   "outputs": [],
   "source": [
    "# imports\n",
    "import pandas as pd\n",
    "from datetime import datetime\n",
    "import finnhub\n",
    "import numpy as np\n",
    "import matplotlib.pyplot as plot\n",
    "from sklearn.preprocessing import MinMaxScaler"
   ]
  },
  {
   "cell_type": "code",
   "execution_count": 4,
   "metadata": {},
   "outputs": [],
   "source": [
    "client = finnhub.Client(api_key='bua9lb748v6q418gd0i0')\n",
    "\n",
    "def get_candlestick_data(ticker, timeframe, start, end):\n",
    "    # I think I need to add some await functionality to the finnhub API call\n",
    "    data = client.stock_candles(ticker, timeframe, start, end)\n",
    "    del data['s']\n",
    "    df = pd.DataFrame.from_dict(data)\n",
    "    df['t'] = df['t'].apply(lambda x: datetime.fromtimestamp(x))\n",
    "    df = df.rename(columns={'c': 'Close', 'h': 'High', 'l': 'Low', 'o': 'Open', 't': 'Date', 'v': 'Volume'})\n",
    "    df.set_index('Date', inplace=True)\n",
    "    df = df[['Open', 'High', 'Low', 'Close', 'Volume']]\n",
    "    return df"
   ]
  },
  {
   "cell_type": "code",
   "execution_count": 5,
   "metadata": {},
   "outputs": [
    {
     "name": "stdout",
     "output_type": "stream",
     "text": [
      "                            Open         High          Low        Close  \\\n",
      "Date                                                                      \n",
      "2010-08-15 17:00:00   123.610001   127.370003   123.040001   126.070000   \n",
      "2010-08-16 17:00:00   127.339996   129.979996   126.790001   128.860001   \n",
      "2010-08-17 17:00:00   129.250000   130.809998   128.259995   129.649994   \n",
      "2010-08-18 17:00:00   129.220001   130.020004   126.820000   127.570000   \n",
      "2010-08-19 17:00:00   127.199997   128.039993   126.019997   127.760002   \n",
      "...                          ...          ...          ...          ...   \n",
      "2020-10-20 17:00:00  3210.129883  3232.239990  3160.000000  3184.939941   \n",
      "2020-10-21 17:00:00  3189.870117  3198.000000  3122.250000  3176.399902   \n",
      "2020-10-22 17:00:00  3191.000000  3205.330078  3140.000000  3204.399902   \n",
      "2020-10-25 17:00:00  3196.020020  3281.419922  3153.540039  3207.040039   \n",
      "2020-10-26 17:00:00  3223.000000  3291.179932  3212.260010  3286.330078   \n",
      "\n",
      "                      Volume  \n",
      "Date                          \n",
      "2010-08-15 17:00:00  4027614  \n",
      "2010-08-16 17:00:00  5045092  \n",
      "2010-08-17 17:00:00  7902371  \n",
      "2010-08-18 17:00:00  5582487  \n",
      "2010-08-19 17:00:00  4172548  \n",
      "...                      ...  \n",
      "2020-10-20 17:00:00  4592736  \n",
      "2020-10-21 17:00:00  4212005  \n",
      "2020-10-22 17:00:00  3466687  \n",
      "2020-10-25 17:00:00  5901151  \n",
      "2020-10-26 17:00:00  4291047  \n",
      "\n",
      "[2570 rows x 5 columns]\n"
     ]
    }
   ],
   "source": [
    "amazon_data = get_candlestick_data('AMZN', 'D', 1281764208, 1603859231)\n",
    "print(amazon_data)"
   ]
  },
  {
   "cell_type": "code",
   "execution_count": 6,
   "metadata": {},
   "outputs": [
    {
     "data": {
      "text/plain": [
       "array([[2.21953517e-04, 5.63206103e-04, 2.34809739e-04, 6.69080487e-04,\n",
       "        1.35267977e-01],\n",
       "       [1.31127371e-03, 1.32484535e-03, 1.34941164e-03, 1.48782442e-03,\n",
       "        1.79012437e-01],\n",
       "       [1.86907744e-03, 1.56705365e-03, 1.78633368e-03, 1.71965310e-03,\n",
       "        3.01855515e-01],\n",
       "       ...,\n",
       "       [8.96032592e-01, 8.98763012e-01, 8.96957304e-01, 9.04025034e-01,\n",
       "        1.11152026e-01],\n",
       "       [8.97498655e-01, 9.20967291e-01, 9.00981771e-01, 9.04799799e-01,\n",
       "        2.15817006e-01],\n",
       "       [9.05377977e-01, 9.23815424e-01, 9.18434942e-01, 9.28067977e-01,\n",
       "        1.46593759e-01]])"
      ]
     },
     "execution_count": 6,
     "metadata": {},
     "output_type": "execute_result"
    }
   ],
   "source": [
    "open_data = amazon_data.iloc[:, 0:5].values\n",
    "open_data = open_data.reshape(-1,5)\n",
    "\n",
    "scaler = MinMaxScaler(feature_range = (0, 1))\n",
    "\n",
    "open_data = scaler.fit_transform(open_data)\n",
    "open_data"
   ]
  },
  {
   "cell_type": "code",
   "execution_count": 7,
   "metadata": {},
   "outputs": [],
   "source": [
    "open_data.shape # (2570, 5)\n",
    "data_train = open_data[:2056]\n",
    "data_test = open_data[2030:]"
   ]
  },
  {
   "cell_type": "code",
   "execution_count": 8,
   "metadata": {},
   "outputs": [],
   "source": [
    "# Create x_train and y_train tensors\n",
    "x_train = []\n",
    "y_train = []\n",
    "\n",
    "# ! what about stocks that don't have at least a year's worth of trading data\n",
    "# 2056 - 7 = 2049\n",
    "for i in range(253, 2049):\n",
    "    x_train.append(data_train[i-253:i])\n",
    "    y_train.append(data_train[i:i+7])\n",
    "\n",
    "x_train = np.asarray(x_train)\n",
    "y_train = np.asarray(y_train)\n",
    "\n",
    "# x_train.shape = (1796, 253, 5)\n",
    "# y_train.shape = (1796, 7, 5)"
   ]
  },
  {
   "cell_type": "code",
   "execution_count": 9,
   "metadata": {},
   "outputs": [],
   "source": [
    "# Create x_test and y_test tensors\n",
    "x_test = []\n",
    "y_test = []\n",
    "\n",
    "# data_test.shape = (540, 5)\n",
    "for i in range(253, 533):\n",
    "    x_test.append(data_test[i-253:i])\n",
    "    y_test.append(data_test[i:i+7])\n",
    "\n",
    "x_test = np.asarray(x_test)\n",
    "y_test = np.asarray(y_test)\n",
    "\n",
    "# x_test.shape = (280, 253, 5)\n",
    "# y_test.shape = (280, 7, 5)"
   ]
  },
  {
   "cell_type": "code",
   "execution_count": 10,
   "metadata": {},
   "outputs": [
    {
     "data": {
      "text/plain": [
       "7"
      ]
     },
     "execution_count": 10,
     "metadata": {},
     "output_type": "execute_result"
    }
   ],
   "source": [
    "y_train.shape[1]"
   ]
  },
  {
   "cell_type": "code",
   "execution_count": 38,
   "metadata": {},
   "outputs": [],
   "source": [
    "import tensorflow as tf\n",
    "from tensorflow.keras import layers\n",
    "from tensorflow.keras import activations\n",
    "from tensorflow.keras.callbacks import *\n",
    "from tensorflow.keras.models import Sequential\n",
    "from tensorflow.keras.layers import Dense\n",
    "from tensorflow.keras.layers import LSTM\n",
    "from tensorflow.keras.layers import Dropout\n",
    "\n",
    "model = Sequential([\n",
    "  layers.LSTM(units=96, return_sequences=False, input_shape=(253, 5)),\n",
    "  layers.RepeatVector(7),\n",
    "  layers.Dropout(0.2),\n",
    "  layers.LSTM(units=96, return_sequences=True),\n",
    "  layers.Dropout(0.2),\n",
    "  layers.LSTM(units=96, return_sequences=True),\n",
    "  layers.Dropout(0.2),\n",
    "  layers.LSTM(units=96, return_sequences=True),\n",
    "  layers.Dropout(0.2),\n",
    "  layers.LSTM(units=96, return_sequences=True),\n",
    "  layers.Dropout(0.2),\n",
    "  layers.LSTM(units=96, return_sequences=True),\n",
    "  layers.Dropout(0.2),\n",
    "  layers.TimeDistributed(Dense(5))\n",
    "])"
   ]
  },
  {
   "cell_type": "code",
   "execution_count": 39,
   "metadata": {},
   "outputs": [
    {
     "name": "stdout",
     "output_type": "stream",
     "text": [
      "48/48 [==============================] - 12s 134ms/step - loss: 0.0103 - val_loss: 0.0484\n"
     ]
    },
    {
     "data": {
      "text/plain": [
       "<tensorflow.python.keras.callbacks.History at 0x7f73876d64c0>"
      ]
     },
     "execution_count": 39,
     "metadata": {},
     "output_type": "execute_result"
    }
   ],
   "source": [
    "model.compile(loss=\"mean_squared_error\", optimizer=\"adam\")\n",
    "\n",
    "mcp_save = ModelCheckpoint('mdl_wts.hdf5', save_best_only=True, monitor='val_loss', mode='min')\n",
    "earlyStopping = EarlyStopping(monitor='val_loss', patience=10, verbose=0, mode='min')\n",
    "\n",
    "model.fit(x_train,y_train, epochs=1, batch_size=32, validation_split=0.15, callbacks=[mcp_save,earlyStopping])"
   ]
  },
  {
   "cell_type": "code",
   "execution_count": null,
   "metadata": {},
   "outputs": [],
   "source": []
  }
 ],
 "metadata": {
  "kernelspec": {
   "display_name": "Python 3",
   "language": "python",
   "name": "python3"
  },
  "language_info": {
   "codemirror_mode": {
    "name": "ipython",
    "version": 3
   },
   "file_extension": ".py",
   "mimetype": "text/x-python",
   "name": "python",
   "nbconvert_exporter": "python",
   "pygments_lexer": "ipython3",
   "version": "3.8.5"
  }
 },
 "nbformat": 4,
 "nbformat_minor": 4
}
